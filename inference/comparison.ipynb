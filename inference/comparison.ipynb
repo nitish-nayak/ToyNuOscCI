{
 "cells": [
  {
   "cell_type": "code",
   "execution_count": 1,
   "metadata": {
    "collapsed": true
   },
   "outputs": [],
   "source": [
    "from matplotlib import rc\n",
    "rc('font', **{'family': 'serif', 'serif': ['Georgia']})\n",
    "rc('text', usetex=True)"
   ]
  },
  {
   "cell_type": "code",
   "execution_count": 2,
   "metadata": {
    "collapsed": true
   },
   "outputs": [],
   "source": [
    "from helper import *\n",
    "from utils import *\n",
    "from approximation import *\n",
    "from plot import *"
   ]
  },
  {
   "cell_type": "code",
   "execution_count": 3,
   "metadata": {
    "collapsed": true
   },
   "outputs": [],
   "source": [
    "def load_contour_dist_2d(file_pattern, grid_size, n_sample):\n",
    "    \"\"\"\n",
    "    Load likelihood ratio test statistic distributions from simulated data files.\n",
    "    \"\"\"\n",
    "    contour_dist = np.zeros((grid_size, grid_size, n_sample))\n",
    "    for i in range(grid_size * grid_size):\n",
    "        j = i / grid_size\n",
    "        k = i % grid_size\n",
    "        loglik_global = []\n",
    "        loglik_profile = []\n",
    "        try:\n",
    "            # TODO: file_pattern seems like a dumb way of handling files\n",
    "            with open(file_pattern + '_{a}.{b}_of_400.txt'.format(a=i, b=i + 1), 'r') as f:\n",
    "                for line in f:\n",
    "                    if len(line.split(',')) == 12:\n",
    "                        loglik_global.append(float(line.split(',')[10][1:]))\n",
    "                        loglik_profile.append(float(line.split(',')[11][1:-2]))\n",
    "            loglik_global = np.asarray(loglik_global)\n",
    "            loglik_profile = np.asarray(loglik_profile)\n",
    "            lrt = 2 * (loglik_profile - loglik_global)  # distribution of likelihood ratio test statistic\n",
    "            n = lrt.shape[0]\n",
    "            if n < n_sample:  # not enough\n",
    "                contour_dist[j, k, :n] = lrt\n",
    "                contour_dist[j, k, n:] = -1\n",
    "            else:\n",
    "                contour_dist[j, k, :] = lrt[:n_sample]\n",
    "        except:\n",
    "            print(i)\n",
    "            contour_dist[j, k, :] = contour_dist[j, k - 1, :]  # catch occasional missing data files\n",
    "    return contour_dist"
   ]
  },
  {
   "cell_type": "code",
   "execution_count": 4,
   "metadata": {
    "collapsed": true
   },
   "outputs": [],
   "source": [
    "def load_contour_stat_2d(file_path, grid_size):\n",
    "    \"\"\"\n",
    "    Load contour of fitted LRT statistic from data in text file.\n",
    "    \"\"\"\n",
    "    loglik_global = []\n",
    "    loglik_profile = []\n",
    "    with open(file_path, 'r') as f:\n",
    "        for line in f:\n",
    "            loglik_global.append(float(line.split(',')[10][1:]))\n",
    "            loglik_profile.append(float(line.split(',')[11][1:-2]))\n",
    "    loglik_global = np.asarray(loglik_global)\n",
    "    loglik_profile = np.asarray(loglik_profile)\n",
    "    contour_stat = np.zeros((grid_size, grid_size))\n",
    "    # TODO: implement 1d version\n",
    "    for i in range(grid_size * grid_size):\n",
    "        j = i / grid_size\n",
    "        k = i % grid_size\n",
    "        contour_stat[j, k] = 2 * (loglik_profile[i] - np.min(loglik_profile))\n",
    "    return contour_stat"
   ]
  },
  {
   "cell_type": "code",
   "execution_count": 5,
   "metadata": {
    "collapsed": true
   },
   "outputs": [],
   "source": [
    "directory = '/Users/linggeli/Downloads/'\n",
    "contour_type = 'theta23__dmsq_32_NH'"
   ]
  },
  {
   "cell_type": "code",
   "execution_count": 6,
   "metadata": {
    "collapsed": true
   },
   "outputs": [],
   "source": [
    "contour_dist = load_contour_dist_2d(directory + 'fc/{}/contour'.format(contour_type), 20, 2000)"
   ]
  },
  {
   "cell_type": "code",
   "execution_count": 7,
   "metadata": {
    "collapsed": true
   },
   "outputs": [],
   "source": [
    "data_index = 0"
   ]
  },
  {
   "cell_type": "code",
   "execution_count": 8,
   "metadata": {
    "collapsed": true
   },
   "outputs": [],
   "source": [
    "contour_stat = load_contour_stat_2d(directory + 'contours/{c}/fit_{i}.txt'.format(c=contour_type, i=data_index), 20)"
   ]
  },
  {
   "cell_type": "code",
   "execution_count": 9,
   "metadata": {
    "collapsed": true
   },
   "outputs": [],
   "source": [
    "contour_tile = calculate_percentile_2d(contour_dist, contour_stat)  # p-value at every point"
   ]
  },
  {
   "cell_type": "code",
   "execution_count": 10,
   "metadata": {
    "collapsed": true
   },
   "outputs": [],
   "source": [
    "all_points, all_samples = flatten_dist(contour_dist)\n",
    "all_obs = contour_stat.flatten()"
   ]
  },
  {
   "cell_type": "code",
   "execution_count": 11,
   "metadata": {
    "collapsed": true
   },
   "outputs": [],
   "source": [
    "n_mc = 0\n",
    "total = 20 * 20 * 2000\n",
    "priority = np.random.uniform(size=400)  # uniform priority means random sampling\n",
    "sample_size = np.zeros(400)"
   ]
  },
  {
   "cell_type": "code",
   "execution_count": 12,
   "metadata": {
    "collapsed": false
   },
   "outputs": [
    {
     "name": "stdout",
     "output_type": "stream",
     "text": [
      "2.0 per cent Monte Carlo\n",
      "92.375 per cent overlap\n",
      "4.0 per cent Monte Carlo\n",
      "93.25 per cent overlap\n",
      "6.0 per cent Monte Carlo\n",
      "93.375 per cent overlap\n",
      "8.0 per cent Monte Carlo\n",
      "93.375 per cent overlap\n",
      "10.0 per cent Monte Carlo\n",
      "93.5 per cent overlap\n"
     ]
    }
   ],
   "source": [
    "for run in range(5):\n",
    "    n_mc += 80 * 200\n",
    "    \n",
    "    sample_size = expand_sample(priority, sample_size, 80, 200, 2000)\n",
    "    current_points = get_current_training(all_points, sample_size)\n",
    "    current_target, current_error = get_current_target(all_samples, all_obs, sample_size)\n",
    "    hat, std = build_approximation(current_points, current_target, current_error, all_points)\n",
    "    priority = acquisition_function(hat, std)\n",
    "    \n",
    "    hat[sample_size > 0] = current_target  # replace model approximation with sample estimate when possible\n",
    "    hat_grid = data_to_grid(hat, 20)\n",
    "    \n",
    "    overlap = calculate_overlap(hat_grid, contour_tile)\n",
    "    print('{} per cent Monte Carlo\\n'.format(n_mc * 100.0 / total) + '{} per cent overlap'.format(np.round(overlap * 100, 3)))"
   ]
  },
  {
   "cell_type": "code",
   "execution_count": 13,
   "metadata": {
    "collapsed": true
   },
   "outputs": [],
   "source": [
    "from tqdm import tqdm as tqdm"
   ]
  },
  {
   "cell_type": "code",
   "execution_count": 14,
   "metadata": {
    "collapsed": false
   },
   "outputs": [
    {
     "name": "stderr",
     "output_type": "stream",
     "text": [
      " 10%|▉         | 19/200 [02:11<19:54,  6.60s/it]//anaconda/lib/python2.7/site-packages/sklearn/gaussian_process/gpr.py:427: UserWarning: fmin_l_bfgs_b terminated abnormally with the  state: {'warnflag': 2, 'task': 'ABNORMAL_TERMINATION_IN_LNSRCH', 'grad': array([2.30128366e-04, 1.51226553e+00]), 'nit': 11, 'funcalls': 60}\n",
      "  \" state: %s\" % convergence_dict)\n",
      " 16%|█▌        | 32/200 [03:44<18:29,  6.61s/it]//anaconda/lib/python2.7/site-packages/sklearn/gaussian_process/gpr.py:427: UserWarning: fmin_l_bfgs_b terminated abnormally with the  state: {'warnflag': 2, 'task': 'ABNORMAL_TERMINATION_IN_LNSRCH', 'grad': array([-4.55247189e-05,  6.36867940e-01]), 'nit': 14, 'funcalls': 68}\n",
      "  \" state: %s\" % convergence_dict)\n",
      " 24%|██▍       | 49/200 [05:35<17:36,  7.00s/it]//anaconda/lib/python2.7/site-packages/sklearn/gaussian_process/gpr.py:427: UserWarning: fmin_l_bfgs_b terminated abnormally with the  state: {'warnflag': 2, 'task': 'ABNORMAL_TERMINATION_IN_LNSRCH', 'grad': array([1.29842121e-04, 2.30422750e+00]), 'nit': 11, 'funcalls': 64}\n",
      "  \" state: %s\" % convergence_dict)\n",
      " 60%|██████    | 120/200 [13:38<07:43,  5.80s/it]//anaconda/lib/python2.7/site-packages/sklearn/gaussian_process/gpr.py:427: UserWarning: fmin_l_bfgs_b terminated abnormally with the  state: {'warnflag': 2, 'task': 'ABNORMAL_TERMINATION_IN_LNSRCH', 'grad': array([-2.16708671e-05,  2.97592891e+00]), 'nit': 13, 'funcalls': 65}\n",
      "  \" state: %s\" % convergence_dict)\n",
      " 62%|██████▏   | 124/200 [14:02<07:16,  5.74s/it]//anaconda/lib/python2.7/site-packages/sklearn/gaussian_process/gpr.py:427: UserWarning: fmin_l_bfgs_b terminated abnormally with the  state: {'warnflag': 2, 'task': 'ABNORMAL_TERMINATION_IN_LNSRCH', 'grad': array([8.70594619e-05, 1.69598730e+00]), 'nit': 14, 'funcalls': 63}\n",
      "  \" state: %s\" % convergence_dict)\n",
      " 66%|██████▌   | 132/200 [14:59<07:01,  6.20s/it]//anaconda/lib/python2.7/site-packages/sklearn/gaussian_process/gpr.py:427: UserWarning: fmin_l_bfgs_b terminated abnormally with the  state: {'warnflag': 2, 'task': 'ABNORMAL_TERMINATION_IN_LNSRCH', 'grad': array([3.25614780e-04, 2.90660069e+00]), 'nit': 13, 'funcalls': 67}\n",
      "  \" state: %s\" % convergence_dict)\n",
      " 70%|███████   | 141/200 [16:00<05:01,  5.11s/it]//anaconda/lib/python2.7/site-packages/sklearn/gaussian_process/gpr.py:427: UserWarning: fmin_l_bfgs_b terminated abnormally with the  state: {'warnflag': 2, 'task': 'ABNORMAL_TERMINATION_IN_LNSRCH', 'grad': array([1.46880700e-04, 2.02368765e+00]), 'nit': 13, 'funcalls': 66}\n",
      "  \" state: %s\" % convergence_dict)\n",
      " 76%|███████▌  | 151/200 [17:26<06:36,  8.09s/it]//anaconda/lib/python2.7/site-packages/sklearn/gaussian_process/gpr.py:427: UserWarning: fmin_l_bfgs_b terminated abnormally with the  state: {'warnflag': 2, 'task': 'ABNORMAL_TERMINATION_IN_LNSRCH', 'grad': array([-7.10427618e-05,  1.36248763e+00]), 'nit': 15, 'funcalls': 68}\n",
      "  \" state: %s\" % convergence_dict)\n",
      " 76%|███████▌  | 152/200 [17:33<06:21,  7.95s/it]//anaconda/lib/python2.7/site-packages/sklearn/gaussian_process/gpr.py:427: UserWarning: fmin_l_bfgs_b terminated abnormally with the  state: {'warnflag': 2, 'task': 'ABNORMAL_TERMINATION_IN_LNSRCH', 'grad': array([-3.06011895e-04,  3.25808906e+00]), 'nit': 12, 'funcalls': 67}\n",
      "  \" state: %s\" % convergence_dict)\n",
      " 83%|████████▎ | 166/200 [19:12<03:41,  6.51s/it]//anaconda/lib/python2.7/site-packages/sklearn/gaussian_process/gpr.py:427: UserWarning: fmin_l_bfgs_b terminated abnormally with the  state: {'warnflag': 2, 'task': 'ABNORMAL_TERMINATION_IN_LNSRCH', 'grad': array([-1.18131080e-04,  3.34326461e+00]), 'nit': 13, 'funcalls': 66}\n",
      "  \" state: %s\" % convergence_dict)\n",
      "100%|██████████| 200/200 [22:46<00:00,  5.78s/it]\n"
     ]
    }
   ],
   "source": [
    "total_overlap = np.zeros((200, 10))\n",
    "\n",
    "for data_index in tqdm(range(200)):\n",
    "    contour_stat = load_contour_stat_2d(directory + 'contours/{c}/fit_{i}.txt'.format(c=contour_type, i=data_index), 20)\n",
    "    contour_tile = calculate_percentile_2d(contour_dist, contour_stat)  # p-value at every point\n",
    "    \n",
    "    all_points, all_samples = flatten_dist(contour_dist)\n",
    "    all_obs = contour_stat.flatten()\n",
    "    \n",
    "    priority = np.random.uniform(size=400)  # uniform priority means random sampling\n",
    "    sample_size = np.zeros(400)\n",
    "    for run in range(5):\n",
    "        sample_size = expand_sample(priority, sample_size, 80, 200, 2000)\n",
    "        current_points = get_current_training(all_points, sample_size)\n",
    "        current_target, current_error = get_current_target(all_samples, all_obs, sample_size)\n",
    "        hat, std = build_approximation(current_points, current_target, current_error, all_points)\n",
    "        priority = acquisition_function(hat, std)\n",
    "\n",
    "        hat[sample_size > 0] = current_target  # replace model approximation with sample estimate when possible\n",
    "        hat_grid = data_to_grid(hat, 20)\n",
    "\n",
    "        overlap = calculate_overlap(hat_grid, contour_tile)\n",
    "        total_overlap[data_index, run] = overlap"
   ]
  },
  {
   "cell_type": "code",
   "execution_count": 22,
   "metadata": {
    "collapsed": false
   },
   "outputs": [
    {
     "data": {
      "image/png": "[encoded data removed]",
      "text/plain": [
       "<Figure size 900x450 with 1 Axes>"
      ]
     },
     "metadata": {
      "needs_background": "light"
     },
     "output_type": "display_data"
    }
   ],
   "source": [
    "fig, ax = plt.subplots(figsize=(6, 3), dpi=150)\n",
    "violin_parts = ax.violinplot([total_overlap[:, 0], \n",
    "                              total_overlap[:, 1], \n",
    "                              total_overlap[:, 2], \n",
    "                              total_overlap[:, 3], \n",
    "                              total_overlap[:, 4]], \n",
    "                             [2, 4, 6, 8, 10], \n",
    "                             widths=1, showmedians=True, showextrema=False)\n",
    "plt.setp(violin_parts['bodies'], facecolor='blue', edgecolor='gray')\n",
    "violin_parts['cmedians'].set_color('r')\n",
    "#plt.scatter(x, results, alpha=0.1, color='b')\n",
    "plt.xlim(0, 11)\n",
    "plt.ylim(0.8, 1.005)\n",
    "plt.xlabel('Percentage')\n",
    "plt.ylabel('Overlap')\n",
    "#plt.savefig('comparison.png')\n",
    "plt.show()"
   ]
  },
  {
   "cell_type": "code",
   "execution_count": null,
   "metadata": {
    "collapsed": true
   },
   "outputs": [],
   "source": []
  }
 ],
 "metadata": {
  "anaconda-cloud": {},
  "kernelspec": {
   "display_name": "Python [conda root]",
   "language": "python",
   "name": "conda-root-py"
  },
  "language_info": {
   "codemirror_mode": {
    "name": "ipython",
    "version": 2
   },
   "file_extension": ".py",
   "mimetype": "text/x-python",
   "name": "python",
   "nbconvert_exporter": "python",
   "pygments_lexer": "ipython2",
   "version": "2.7.3"
  }
 },
 "nbformat": 4,
 "nbformat_minor": 1
}
