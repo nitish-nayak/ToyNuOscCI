{
 "cells": [
  {
   "cell_type": "code",
   "execution_count": 1,
   "metadata": {
    "collapsed": true
   },
   "outputs": [],
   "source": [
    "from helper import *\n",
    "from utils import *\n",
    "from approximation import *\n",
    "from plot import *"
   ]
  },
  {
   "cell_type": "code",
   "execution_count": 2,
   "metadata": {
    "collapsed": true
   },
   "outputs": [],
   "source": [
    "from tqdm import tqdm as tqdm"
   ]
  },
  {
   "cell_type": "code",
   "execution_count": 3,
   "metadata": {
    "collapsed": true
   },
   "outputs": [],
   "source": [
    "directory = '/Users/linggeli/Downloads/'"
   ]
  },
  {
   "cell_type": "code",
   "execution_count": 4,
   "metadata": {
    "collapsed": true
   },
   "outputs": [],
   "source": [
    "contour_2d_types = ['dcp__theta23_NH', 'dcp__theta23_IH', 'theta23__dmsq_32_NH', 'theta23__dmsq_32_IH']"
   ]
  },
  {
   "cell_type": "code",
   "execution_count": 5,
   "metadata": {
    "collapsed": false
   },
   "outputs": [
    {
     "name": "stderr",
     "output_type": "stream",
     "text": [
      "100%|██████████| 4/4 [00:17<00:00,  4.48s/it]\n"
     ]
    }
   ],
   "source": [
    "for contour_type in tqdm(contour_2d_types):\n",
    "    contour_dist = load_contour_dist_2d(directory + 'fc/{}/contour'.format(contour_type), 20, 2000)\n",
    "    contour_stat = np.zeros((200, 20, 20))\n",
    "    for i in range(200):\n",
    "        contour_stat[i, :, :] = load_contour_stat_2d(directory + 'fit/{c}/fit_{d}.txt'.format(c=contour_type, d=i), 20)\n",
    "    #np.save('dist_{}.npy'.format(contour_type), contour_dist)\n",
    "    #np.save('stat_{}.npy'.format(contour_type), contour_stat)"
   ]
  },
  {
   "cell_type": "code",
   "execution_count": 6,
   "metadata": {
    "collapsed": true
   },
   "outputs": [],
   "source": [
    "contour_1d_types = ['theta23_NH', 'theta23_IH', 'dmsq_32_NH', 'dmsq_32_IH',\n",
    "                    'dcp_NHLO', 'dcp_NHUO', 'dcp_IHLO', 'dcp_IHUO', 'dcp_NH', 'dcp_IH']"
   ]
  },
  {
   "cell_type": "code",
   "execution_count": 7,
   "metadata": {
    "collapsed": false
   },
   "outputs": [
    {
     "name": "stderr",
     "output_type": "stream",
     "text": [
      "100%|██████████| 10/10 [00:03<00:00,  3.37it/s]\n"
     ]
    }
   ],
   "source": [
    "for contour_type in tqdm(contour_1d_types):\n",
    "    contour_dist = load_contour_dist_1d(directory + 'fc/{}/contour'.format(contour_type), 20, 2000)\n",
    "    contour_stat = np.zeros((200, 20))\n",
    "    for i in range(200):\n",
    "        contour_stat[i, :] = load_contour_stat_1d(directory + 'fit/{c}/fit_{d}.txt'.format(c=contour_type, d=i), 20)\n",
    "    #np.save('dist_{}.npy'.format(contour_type), contour_dist)\n",
    "    #np.save('stat_{}.npy'.format(contour_type), contour_stat)"
   ]
  },
  {
   "cell_type": "code",
   "execution_count": null,
   "metadata": {
    "collapsed": true
   },
   "outputs": [],
   "source": []
  }
 ],
 "metadata": {
  "anaconda-cloud": {},
  "kernelspec": {
   "display_name": "Python [conda root]",
   "language": "python",
   "name": "conda-root-py"
  },
  "language_info": {
   "codemirror_mode": {
    "name": "ipython",
    "version": 2
   },
   "file_extension": ".py",
   "mimetype": "text/x-python",
   "name": "python",
   "nbconvert_exporter": "python",
   "pygments_lexer": "ipython2",
   "version": "2.7.3"
  }
 },
 "nbformat": 4,
 "nbformat_minor": 1
}
