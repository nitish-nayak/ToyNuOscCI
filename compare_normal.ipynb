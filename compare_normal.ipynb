{
 "cells": [
  {
   "cell_type": "code",
   "execution_count": 1,
   "metadata": {
    "collapsed": false
   },
   "outputs": [],
   "source": [
    "import numpy as np\n",
    "import matplotlib\n",
    "matplotlib.use('Agg')\n",
    "import matplotlib.pyplot as plt\n",
    "%matplotlib inline"
   ]
  },
  {
   "cell_type": "code",
   "execution_count": 2,
   "metadata": {
    "collapsed": true
   },
   "outputs": [],
   "source": [
    "from matplotlib import rcParams\n",
    "plt.style.use('seaborn-white')\n",
    "rcParams['font.family'] = 'serif'\n",
    "rcParams['font.serif'] = 'Georgia'"
   ]
  },
  {
   "cell_type": "code",
   "execution_count": 3,
   "metadata": {
    "collapsed": false
   },
   "outputs": [],
   "source": [
    "from utils import grid_to_data\n",
    "from approximation import adaptive_search\n",
    "from helper import perform_comparison"
   ]
  },
  {
   "cell_type": "code",
   "execution_count": 6,
   "metadata": {
    "collapsed": false
   },
   "outputs": [
    {
     "data": {
      "image/png": "[encoded data removed]",
      "text/plain": [
       "<Figure size 288x288 with 1 Axes>"
      ]
     },
     "metadata": {
      "needs_background": "light"
     },
     "output_type": "display_data"
    },
    {
     "name": "stdout",
     "output_type": "stream",
     "text": [
      "Percentage of pointwise overlap: 1.0\n"
     ]
    }
   ],
   "source": [
    "result = perform_comparison(100, 'normal', 20, 10, 10, post_hoc_smooth=True)"
   ]
  },
  {
   "cell_type": "code",
   "execution_count": 7,
   "metadata": {
    "collapsed": false
   },
   "outputs": [],
   "source": [
    "from tqdm import tqdm_notebook as tqdm"
   ]
  },
  {
   "cell_type": "code",
   "execution_count": 9,
   "metadata": {
    "collapsed": false
   },
   "outputs": [
    {
     "name": "stdout",
     "output_type": "stream",
     "text": [
      "\n"
     ]
    }
   ],
   "source": [
    "results_40 = []\n",
    "for i in tqdm(range(200)):\n",
    "    current_result = perform_comparison(i, 'normal', 20, 1, 20, post_hoc_smooth=True, verbose=False)\n",
    "    results_40.append(current_result)"
   ]
  },
  {
   "cell_type": "code",
   "execution_count": 10,
   "metadata": {
    "collapsed": false
   },
   "outputs": [
    {
     "name": "stdout",
     "output_type": "stream",
     "text": [
      "\n"
     ]
    }
   ],
   "source": [
    "results_80 = []\n",
    "for i in tqdm(range(200)):\n",
    "    current_result = perform_comparison(i, 'normal', 20, 3, 20, post_hoc_smooth=True, verbose=False)\n",
    "    results_80.append(current_result)"
   ]
  },
  {
   "cell_type": "code",
   "execution_count": 11,
   "metadata": {
    "collapsed": false
   },
   "outputs": [
    {
     "name": "stdout",
     "output_type": "stream",
     "text": [
      "\n"
     ]
    }
   ],
   "source": [
    "results_120 = []\n",
    "for i in tqdm(range(200)):\n",
    "    current_result = perform_comparison(i, 'normal', 20, 5, 20, post_hoc_smooth=True, verbose=False)\n",
    "    results_120.append(current_result)"
   ]
  },
  {
   "cell_type": "code",
   "execution_count": 12,
   "metadata": {
    "collapsed": false
   },
   "outputs": [
    {
     "name": "stdout",
     "output_type": "stream",
     "text": [
      "\n"
     ]
    }
   ],
   "source": [
    "results_160 = []\n",
    "for i in tqdm(range(200)):\n",
    "    current_result = perform_comparison(i, 'normal', 40, 6, 20, post_hoc_smooth=True, verbose=False)\n",
    "    results_160.append(current_result)"
   ]
  },
  {
   "cell_type": "code",
   "execution_count": 13,
   "metadata": {
    "collapsed": false
   },
   "outputs": [
    {
     "name": "stdout",
     "output_type": "stream",
     "text": [
      "\n"
     ]
    }
   ],
   "source": [
    "results_200 = []\n",
    "for i in tqdm(range(200)):\n",
    "    current_result = perform_comparison(i, 'normal', 40, 8, 20, post_hoc_smooth=True, verbose=False)\n",
    "    results_200.append(current_result)"
   ]
  },
  {
   "cell_type": "code",
   "execution_count": 22,
   "metadata": {
    "collapsed": true
   },
   "outputs": [],
   "source": [
    "results = results_40 + results_80 + results_120 + results_160 + results_200\n",
    "x = [40] * 200 + [80] * 200 + [120] * 200 + [160] * 200 + [200] * 200\n",
    "results = np.asarray(results)\n",
    "x = np.asarray(x) / 4.0"
   ]
  },
  {
   "cell_type": "code",
   "execution_count": 58,
   "metadata": {
    "collapsed": false
   },
   "outputs": [
    {
     "data": {
      "image/png": "[encoded data removed]",
      "text/plain": [
       "<Figure size 432x288 with 1 Axes>"
      ]
     },
     "metadata": {},
     "output_type": "display_data"
    }
   ],
   "source": [
    "fig, ax = plt.subplots(figsize=(6, 4))\n",
    "violin_parts = ax.violinplot([results_40, results_80, results_120, results_160, results_200], \n",
    "                             [10, 20, 30, 40, 50], \n",
    "                             widths=10, showmedians=True, showextrema=False)\n",
    "plt.setp(violin_parts['bodies'], facecolor='blue', edgecolor='gray')\n",
    "violin_parts['cmedians'].set_color('r')\n",
    "plt.scatter(x, results, alpha=0.1, color='b')\n",
    "plt.xlim(0, 55)\n",
    "plt.ylim(0.9, 1.005)\n",
    "#plt.title('Results for 200 NH data sets', fontsize=14, fontweight='bold')\n",
    "plt.xlabel('Percentage of grid points', fontsize=14)\n",
    "plt.ylabel('Confidence contour overlap', fontsize=14)\n",
    "plt.savefig('comparison.png')\n",
    "plt.show()"
   ]
  },
  {
   "cell_type": "code",
   "execution_count": null,
   "metadata": {
    "collapsed": true
   },
   "outputs": [],
   "source": []
  }
 ],
 "metadata": {
  "anaconda-cloud": {},
  "kernelspec": {
   "display_name": "Python [conda root]",
   "language": "python",
   "name": "conda-root-py"
  },
  "language_info": {
   "codemirror_mode": {
    "name": "ipython",
    "version": 2
   },
   "file_extension": ".py",
   "mimetype": "text/x-python",
   "name": "python",
   "nbconvert_exporter": "python",
   "pygments_lexer": "ipython2",
   "version": "2.7.3"
  }
 },
 "nbformat": 4,
 "nbformat_minor": 1
}
